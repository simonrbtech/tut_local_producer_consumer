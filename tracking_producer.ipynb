{
 "cells": [
  {
   "cell_type": "markdown",
   "metadata": {},
   "source": [
    "### Tutorial Excercise: Local Confluent Kafka Producer and Consumer \n",
    "This notebook is part of the tutorial [\"How to handle diverse data in event streaming for carbon accounting\"](https://simon.richebaecher.org) in Simon Richebaechers blog series on cloud services. Please follow the instructions provided in the mentioned post, as the following activities are part of step 2 in the underlying use case. If you are interested in more information on how to set up a python client application for Confluent, you can visit [the Confluent developer space](https://developer.confluent.io/courses/kafka-python/intro/).  "
   ]
  },
  {
   "cell_type": "code",
   "execution_count": 4,
   "metadata": {},
   "outputs": [],
   "source": [
    "# Import necessary streaming modules from the confluent_kafka library\n",
    "from confluent_kafka import Producer, Consumer\n",
    "from confluent_kafka.serialization import SerializationContext, MessageField\n",
    "from confluent_kafka.schema_registry import SchemaRegistryClient\n",
    "from confluent_kafka.schema_registry.avro import AvroSerializer, AvroDeserializer\n",
    "\n",
    "# Import configuration parameters from the local 'config' and 'sr_config' files\n",
    "from config import config, sr_config\n",
    "\n",
    "# Import the 'random', 'datetime', 'pytz', and 'time' modules for assistive use\n",
    "import random as random\n",
    "import datetime as dt\n",
    "import pytz\n",
    "import time"
   ]
  },
  {
   "attachments": {},
   "cell_type": "markdown",
   "metadata": {},
   "source": [
    "#### Building a Producer which is Avro schema compliant \n",
    "Our initial goal is to produce events to a topic we set up in Confluent Cloud. The schema registry that comes with our envrionment in Confluent stores schemas and provides such for serialization and deserialization requests. We have opted for an Avro schema format and will therefore create an Avro compliant producer for our simulated tracking data.  "
   ]
  },
  {
   "cell_type": "markdown",
   "metadata": {},
   "source": [
    "First we write classes to define the structure of the tracking events and their associated measurements. The TrackingEvent class has attributes like id, customer_id, date_time, and measurement_list, while the Measurement class has attributes like vehicle_id, product_id, journey_km, and total_km. Both classes provide a structured way to store and manage tracking event data."
   ]
  },
  {
   "cell_type": "code",
   "execution_count": 5,
   "metadata": {},
   "outputs": [],
   "source": [
    "# Define a class named TrackingEvent to represent tracking events\n",
    "class TrackingEvent(object):\n",
    "    def __init__(self, id, customer_id, date_time, measurement_list):\n",
    "        # Constructor for TrackingEvent with attributes:\n",
    "        # - id: Identifier for the tracking event\n",
    "        # - customer_id: Identifier for the associated customer\n",
    "        # - date_time: Date and time when the tracking event occurred\n",
    "        # - measurement_list: List containing measurement objects related to the event\n",
    "        self.id = id\n",
    "        self.customer_id = customer_id\n",
    "        self.date_time = date_time\n",
    "        self.measurement_list = measurement_list\n",
    "\n",
    "# Define a class named Measurement to represent measurements within tracking events\n",
    "class Measurement(object):\n",
    "    def __init__(self, vehicle_id, product_id, journey_km, total_km):\n",
    "        # Constructor for Measurement with attributes:\n",
    "        # - vehicle_id: Identifier for the vehicle associated with the measurement\n",
    "        # - product_id: Identifier for the product, i.e. vehicle type associated with the measurement\n",
    "        # - journey_km: Kilometers covered in the current journey\n",
    "        # - total_km: Total kilometers covered by the vehicle\n",
    "        self.vehicle_id = vehicle_id\n",
    "        self.product_id = product_id\n",
    "        self.journey_km = journey_km\n",
    "        self.total_km = total_km\n"
   ]
  },
  {
   "cell_type": "markdown",
   "metadata": {},
   "source": [
    "To ensure compliance for the data structures we created above, the Avro schema below details such for its upcoming registration in the schema registry and application during event production. "
   ]
  },
  {
   "cell_type": "code",
   "execution_count": 6,
   "metadata": {},
   "outputs": [],
   "source": [
    "schema_str = \"\"\"{\n",
    "  \"doc\": \"Schema for tracking data\",\n",
    "  \"fields\": [\n",
    "    {\n",
    "      \"doc\": \"The int type is a 32-bit signed integer.\",\n",
    "      \"name\": \"id\",\n",
    "      \"type\": \"int\"\n",
    "    },\n",
    "    {\n",
    "      \"doc\": \"The int type is a 32-bit signed integer.\",\n",
    "      \"name\": \"customer_id\",\n",
    "      \"type\": \"int\"\n",
    "    },\n",
    "    {\n",
    "      \"doc\": \"Avro int, where the int stores the number of days from the unix epoch, 1 January 1970 (ISO calendar)\",\n",
    "      \"name\": \"date_time\",\n",
    "      \"type\": \"int\"\n",
    "    },\n",
    "    {\n",
    "      \"doc\": \"List of measurements for all products/vehicles used by a customer\",\n",
    "      \"name\": \"measurement_list\",\n",
    "      \"type\": {\n",
    "        \"type\": \"array\",  \n",
    "        \"items\": {\n",
    "            \"type\":\"record\",\n",
    "            \"name\":\"measurement\",\n",
    "            \"fields\":[\n",
    "                {\n",
    "                  \"name\":\"vehicle_id\", \"type\":\"int\"\n",
    "                },\n",
    "                {\n",
    "                  \"name\":\"product_id\", \"type\":\"int\"\n",
    "                },\n",
    "                {\n",
    "                  \"name\":\"journey_km\", \"type\":\"float\"\n",
    "                },\n",
    "                {\n",
    "                  \"name\":\"total_km\", \"type\":\"float\"\n",
    "                }\n",
    "            ]}\n",
    "        }\n",
    "    }\n",
    "  ],\n",
    "  \"name\": \"tracking_event\",\n",
    "  \"type\": \"record\",\n",
    "  \"namespace\": \"com.mycorp.mynamespace\"\n",
    "}\"\"\""
   ]
  },
  {
   "cell_type": "markdown",
   "metadata": {},
   "source": [
    "The upcoming function takes a TrackingEvent object (next to a context) as input and converts it into a dictionary format. The attributes of the TrackingEvent and its associated Measurement objects are extracted and copied into the dictionary. The measurement_list is converted into a list of dictionaries using a list comprehension, preserving the attributes of each Measurement object."
   ]
  },
  {
   "cell_type": "code",
   "execution_count": 7,
   "metadata": {},
   "outputs": [],
   "source": [
    "def trackingevent_to_dict(trackingevent,ctx):\n",
    "    \"\"\"\n",
    "    Convert a TrackingEvent object to a dictionary representation.\n",
    "\n",
    "    Args:\n",
    "        trackingevent (TrackingEvent): TrackingEvent object to be converted.\n",
    "        ctx (SerializationContext): Context for serialization.\n",
    "\n",
    "    Returns:\n",
    "        dict: Dictionary representation of the TrackingEvent object.\n",
    "    \"\"\"\n",
    "\n",
    "    return {\n",
    "        \"id\":trackingevent.id,\n",
    "        \"customer_id\":trackingevent.customer_id, \n",
    "        \"date_time\":trackingevent.date_time,\n",
    "\n",
    "        # Convert the measurement_list using a list comprehension\n",
    "        \"measurement_list\":[\n",
    "            {\n",
    "                \"vehicle_id\":e.vehicle_id, \n",
    "                \"product_id\":e.product_id,\n",
    "                \"journey_km\":e.journey_km,\n",
    "                \"total_km\":e.total_km\n",
    "            } for e in trackingevent.measurement_list] # Iterate through each Measurement in the list\n",
    "            }\n"
   ]
  },
  {
   "cell_type": "markdown",
   "metadata": {},
   "source": [
    "We define a function that generates simulated tracking event data according to the specified parameters. It creates a list of TrackingEvent objects, each with random values for the various attributes within the specified ranges. The number of events generated is controlled by the n_events argument. "
   ]
  },
  {
   "cell_type": "code",
   "execution_count": 8,
   "metadata": {},
   "outputs": [],
   "source": [
    "def data_generator(n_events=1):\n",
    "    \"\"\" \n",
    "    Generate simulated tracking event data.\n",
    "\n",
    "    Args:\n",
    "        n_events (int): Number of tracking events to generate. Default is 1.\n",
    "\n",
    "    Returns:\n",
    "        list: A list of generated TrackingEvent objects.\n",
    "    \"\"\"\n",
    "\n",
    "    #Current settings:\n",
    "    # event id with 7 digits in range of 1,000,000 to 10,000,000\n",
    "    # customer id with 6 digits in range of 100,000 to 1,000,000\n",
    "    # timestamp as current unix time\n",
    "    # vehicle id with 5 digits in range 10,000 to 100,000\n",
    "    # product id with 1 digit fixed for 5,6,7 (3 bike types)\n",
    "    # journey in km in range of 0.0 to 50.00 km \n",
    "    # total travelled km in range 0.0 to 50,000.00 km \n",
    "\n",
    "    iter_count = range(1,n_events+1)  # Create a range of values from 1 to n_events\n",
    "\n",
    "    local_timezone = pytz.timezone('Europe/Berlin') # Get the current time in the 'Europe/Berlin' timezone \n",
    "    simulation_data = [\n",
    "        TrackingEvent(\n",
    "            random.randrange(100000,1000000),\n",
    "            random.randrange(100000,1000000),\n",
    "            int(dt.datetime.now(local_timezone).timestamp()),\n",
    "            [ Measurement(\n",
    "                random.randrange(10000,100000),\n",
    "                random.randrange(5,8),\n",
    "                round(random.uniform(0,50),2),\n",
    "                round(random.uniform(0,50000),2))\n",
    "            ]) for n in iter_count\n",
    "        ]\n",
    "\n",
    "    return simulation_data\n"
   ]
  },
  {
   "cell_type": "markdown",
   "metadata": {},
   "source": [
    "This callback function is typically used when producing messages to a Kafka topic to handle the delivery status of the produced messages:"
   ]
  },
  {
   "cell_type": "code",
   "execution_count": 9,
   "metadata": {},
   "outputs": [],
   "source": [
    "def delivery_report(err, event): \n",
    "    \"\"\"Callback function to handle delivery reports for produced messages.\n",
    "\n",
    "    Args:\n",
    "        err (KafkaError): An error object indicating the delivery status of the message.\n",
    "        event (Message): A message object representing the produced message.\n",
    "    \"\"\"\n",
    "\n",
    "    if err is not None:\n",
    "        print(f'Delivery failed on reading for {event.key().decode(\"utf8\")}: {err}')\n",
    "    else:\n",
    "        print(f'Temp reading for {event.key().decode(\"utf8\")} produced to {event.topic()}')"
   ]
  },
  {
   "cell_type": "markdown",
   "metadata": {},
   "source": [
    "The following function encapsulates the process of initializing and configuring an Avro serializer for producing messages. It takes the Kafka topic, the Avro schema_str, and the Schema Registry configuration sr_config as arguments. It returns an initialized AvroSerializer instance that's ready to be used for message production."
   ]
  },
  {
   "cell_type": "code",
   "execution_count": 10,
   "metadata": {},
   "outputs": [],
   "source": [
    "def initialize_avro_serializer(topic, schema_str, schema_registry_config):\n",
    "    \"\"\"Initialize and configure an Avro serializer for producing messages.\n",
    "\n",
    "    Args:\n",
    "        topic (str): The Kafka topic to which messages will be produced.\n",
    "        schema_str (str): Avro schema definition as a JSON-formatted string.\n",
    "        schema_registry_config (dict): Configuration for the Schema Registry client.\n",
    "\n",
    "    Returns:\n",
    "        AvroSerializer: An initialized Avro serializer instance.\n",
    "    \"\"\"\n",
    "\n",
    "    # Initialize the Schema Registry client\n",
    "    schema_registry_client = SchemaRegistryClient(schema_registry_config)\n",
    "\n",
    "    # Create an Avro serializer with the specified schema and schema_registry_client\n",
    "    avro_serializer = AvroSerializer(schema_registry_client, schema_str, trackingevent_to_dict)\n",
    "\n",
    "    return avro_serializer"
   ]
  },
  {
   "cell_type": "markdown",
   "metadata": {},
   "source": [
    "We define a function combines the previous subfunctions into one process: generating simulated tracking events, serializing them using the Avro serializer, and producing them to a Kafka topic using the Kafka producer. Finally, it flushes the producer to ensure all messages are sent."
   ]
  },
  {
   "cell_type": "code",
   "execution_count": 11,
   "metadata": {},
   "outputs": [],
   "source": [
    "def generate_and_produce_events(topic, schema_str, config, sr_config):\n",
    "\t\"\"\"\n",
    "\tGenerate simulated tracking events and produce them to a Kafka topic.\n",
    "\n",
    "\tArgs:\n",
    "\t\ttopic (str): The Kafka topic to which messages will be produced.\n",
    "\t\tschema_str (str): Avro schema definition as a JSON-formatted string.\n",
    "\t\tconfig (dict): Configuration for the Kafka producer.\n",
    "\t\tsr_config (dict): Configuration for the Schema Registry client.\n",
    "\n",
    "\tReturns:\n",
    "\t\tNone\n",
    "\t\"\"\"\n",
    "\n",
    "\tsimulation_data = data_generator()\n",
    "\t\n",
    "\tavro_serializer = initialize_avro_serializer(topic, schema_str, sr_config)\n",
    "\n",
    "\tproducer = Producer(config)\n",
    "\n",
    "\tfor event in simulation_data:\n",
    "\n",
    "\t\t# Produce the serialized event to the Kafka topic\n",
    "\t\tproducer.produce(\n",
    "\t\t\ttopic=topic, \n",
    "\t\t\tkey=str(event.id), # Using event.id as the message key\n",
    "\t\t\tvalue=avro_serializer(\n",
    "\t\t\t\tevent,\n",
    "\t\t\t\tSerializationContext(topic, MessageField.VALUE)),\n",
    "\t\t\t\ton_delivery=delivery_report\n",
    "\t\t\t\t)\n",
    "\t\t\n",
    "\tproducer.flush()"
   ]
  },
  {
   "cell_type": "markdown",
   "metadata": {},
   "source": [
    "Call the function to generate and produce events:"
   ]
  },
  {
   "cell_type": "code",
   "execution_count": 12,
   "metadata": {},
   "outputs": [
    {
     "ename": "KeyboardInterrupt",
     "evalue": "",
     "output_type": "error",
     "traceback": [
      "\u001b[0;31m---------------------------------------------------------------------------\u001b[0m",
      "\u001b[0;31mKeyboardInterrupt\u001b[0m                         Traceback (most recent call last)",
      "Cell \u001b[0;32mIn[12], line 2\u001b[0m\n\u001b[1;32m      1\u001b[0m topic \u001b[39m=\u001b[39m \u001b[39m'\u001b[39m\u001b[39mtracking_events\u001b[39m\u001b[39m'\u001b[39m \u001b[39m# chosen topic (name) of tutorial. Needs to be created beforehand in Confluent Cloud.\u001b[39;00m\n\u001b[0;32m----> 2\u001b[0m generate_and_produce_events(topic, schema_str, config, sr_config)\n",
      "Cell \u001b[0;32mIn[11], line 33\u001b[0m, in \u001b[0;36mgenerate_and_produce_events\u001b[0;34m(topic, schema_str, config, sr_config)\u001b[0m\n\u001b[1;32m     21\u001b[0m \u001b[39mfor\u001b[39;00m event \u001b[39min\u001b[39;00m simulation_data:\n\u001b[1;32m     22\u001b[0m \n\u001b[1;32m     23\u001b[0m \t\u001b[39m# Produce the serialized event to the Kafka topic\u001b[39;00m\n\u001b[1;32m     24\u001b[0m \tproducer\u001b[39m.\u001b[39mproduce(\n\u001b[1;32m     25\u001b[0m \t\ttopic\u001b[39m=\u001b[39mtopic, \n\u001b[1;32m     26\u001b[0m \t\tkey\u001b[39m=\u001b[39m\u001b[39mstr\u001b[39m(event\u001b[39m.\u001b[39mid), \u001b[39m# Using event.id as the message key\u001b[39;00m\n\u001b[0;32m   (...)\u001b[0m\n\u001b[1;32m     30\u001b[0m \t\t\ton_delivery\u001b[39m=\u001b[39mdelivery_report\n\u001b[1;32m     31\u001b[0m \t\t\t)\n\u001b[0;32m---> 33\u001b[0m producer\u001b[39m.\u001b[39;49mflush()\n",
      "Cell \u001b[0;32mIn[9], line 1\u001b[0m, in \u001b[0;36mdelivery_report\u001b[0;34m(err, event)\u001b[0m\n\u001b[0;32m----> 1\u001b[0m \u001b[39mdef\u001b[39;00m \u001b[39mdelivery_report\u001b[39m(err, event): \n\u001b[1;32m      2\u001b[0m \u001b[39m    \u001b[39m\u001b[39m\"\"\"Callback function to handle delivery reports for produced messages.\u001b[39;00m\n\u001b[1;32m      3\u001b[0m \n\u001b[1;32m      4\u001b[0m \u001b[39m    Args:\u001b[39;00m\n\u001b[1;32m      5\u001b[0m \u001b[39m        err (KafkaError): An error object indicating the delivery status of the message.\u001b[39;00m\n\u001b[1;32m      6\u001b[0m \u001b[39m        event (Message): A message object representing the produced message.\u001b[39;00m\n\u001b[1;32m      7\u001b[0m \u001b[39m    \"\"\"\u001b[39;00m\n\u001b[1;32m      9\u001b[0m     \u001b[39mif\u001b[39;00m err \u001b[39mis\u001b[39;00m \u001b[39mnot\u001b[39;00m \u001b[39mNone\u001b[39;00m:\n",
      "\u001b[0;31mKeyboardInterrupt\u001b[0m: "
     ]
    }
   ],
   "source": [
    "topic = 'tracking_events' # chosen topic (name) of tutorial. Needs to be created beforehand in Confluent Cloud.\n",
    "generate_and_produce_events(topic, schema_str, config, sr_config)"
   ]
  },
  {
   "cell_type": "markdown",
   "metadata": {},
   "source": [
    "We can run the following script to start an infinite loop that continuously generates and produces events using the generate_and_produce_events function. The loop runs until the user interrupts it (typically by pressing Ctrl+C). You can change the delay in seconds to simulate another frequency. "
   ]
  },
  {
   "cell_type": "code",
   "execution_count": 13,
   "metadata": {},
   "outputs": [
    {
     "name": "stdout",
     "output_type": "stream",
     "text": [
      "Script stopped by user.\n"
     ]
    }
   ],
   "source": [
    "if __name__ == \"__main__\":\n",
    "    try:\n",
    "        while True:\n",
    "            generate_and_produce_events(topic, schema_str, config, sr_config)\n",
    "            time.sleep(2)  # Wait for 2 seconds\n",
    "    except KeyboardInterrupt:\n",
    "        print(\"Script stopped by user.\")"
   ]
  },
  {
   "attachments": {},
   "cell_type": "markdown",
   "metadata": {},
   "source": [
    "#### Building a Consumer which is Avro schema compliant \n",
    "Once we have events in the specified topic in Confluent Cloud, we also simulate the consumption of such with a python consumer client. For deserialization we will use the previously created Avro schema which access through the schema registry. You could also adapat the following code to consume data from other topics, but be sure to write the corresponding schema and object definitions (with dictionary representations) as previously shown above.  "
   ]
  },
  {
   "cell_type": "markdown",
   "metadata": {},
   "source": [
    "This function updates the Kafka consumer configuration, whereby the offset reset setting 'earliest' will allow us to consume all (new) events that have not yet been consumed."
   ]
  },
  {
   "cell_type": "code",
   "execution_count": 14,
   "metadata": {},
   "outputs": [],
   "source": [
    "def set_consumer_configs():\n",
    "    \"\"\"\n",
    "    Set the Kafka consumer configuration options for group ID and offset reset.\n",
    "    \"\"\"\n",
    "\n",
    "    config['group.id'] = 'trackingevent_group'\n",
    "    config['auto.offset.reset'] = 'earliest'"
   ]
  },
  {
   "cell_type": "markdown",
   "metadata": {},
   "source": [
    "We do the reverse process as done during the producer preparation beforehand. The function constructs a new TrackingEvent object using the values extracted from the dictionary. It is useful when deserializing data back into its original object form. "
   ]
  },
  {
   "cell_type": "code",
   "execution_count": 15,
   "metadata": {},
   "outputs": [],
   "source": [
    "def dict_to_trackingevent(dict, ctx):\n",
    "    \"\"\"\n",
    "    Convert a dictionary to a TrackingEvent object using provided context.\n",
    "\n",
    "    Args:\n",
    "        dict (dict): Dictionary containing TrackingEvent attributes.\n",
    "        ctx (SerializationContext): Context for deserialization.\n",
    "\n",
    "    Returns:\n",
    "        TrackingEvent: Deserialized TrackingEvent object.\n",
    "    \"\"\"\n",
    "    return TrackingEvent(\n",
    "        dict['id'], \n",
    "        dict['customer_id'], \n",
    "        dict['date_time'], \n",
    "        dict['measurement_list'])"
   ]
  },
  {
   "cell_type": "markdown",
   "metadata": {},
   "source": [
    "The following function encapsulates the process of initializing and configuring an Avro deserializer and Kafka consumer for a specific topic. It takes the Kafka topic, the Avro schema_str, and the Schema Registry configuration sr_config as arguments. It then returns an initialized Kafka consumer instance that's ready to be used for consuming messages from the specified topic."
   ]
  },
  {
   "cell_type": "code",
   "execution_count": 16,
   "metadata": {},
   "outputs": [],
   "source": [
    "def initialize_avro_consumer(topic, schema_str, sr_config):\n",
    "    \"\"\"Initialize and configure an Avro deserializer and Kafka consumer for a topic.\n",
    "\n",
    "    Args:\n",
    "        topic (str): The Kafka topic to subscribe to.\n",
    "        schema_str (str): Avro schema definition as a JSON-formatted string.\n",
    "        sr_config (dict): Configuration for the Schema Registry client.\n",
    "\n",
    "    Returns:\n",
    "        Consumer: An initialized Kafka consumer instance.\n",
    "    \"\"\"\n",
    "\n",
    "    # Initialize the Schema Registry client\n",
    "    schema_registry_client = SchemaRegistryClient(sr_config)\n",
    "\n",
    "    # Create an Avro deserializer with the specified schema and schema_registry_client\n",
    "    avro_deserializer = AvroDeserializer(schema_registry_client, schema_str, from_dict=dict_to_trackingevent)\n",
    "\n",
    "    # Set the consumer configurations\n",
    "    set_consumer_configs()\n",
    "\n",
    "    # Create a Kafka consumer instance and subscribe to the topic\n",
    "    consumer = Consumer(config)\n",
    "    consumer.subscribe([topic])\n",
    "\n",
    "    return consumer, avro_deserializer\n"
   ]
  },
  {
   "cell_type": "markdown",
   "metadata": {},
   "source": [
    "The process of initializing an Avro consumer, subscribing to a Kafka topic, and consuming tracking events using an Avro deserializer is combined in the following function. It runs in an infinite loop, printing out information about the consumed events. The loop exits gracefully on a KeyboardInterrupt (typically triggered by pressing Ctrl+C) and ensures that the consumer is properly closed."
   ]
  },
  {
   "cell_type": "code",
   "execution_count": null,
   "metadata": {},
   "outputs": [
    {
     "name": "stderr",
     "output_type": "stream",
     "text": [
      "%3|1692390402.156|FAIL|rdkafka#producer-1| [thrd:sasl_ssl://pkc-w7d6j.germanywestcentral.azure.confluent.cloud:9]: sasl_ssl://pkc-w7d6j.germanywestcentral.azure.confluent.cloud:9092/bootstrap: Receive failed: SSL transport error: Operation timed out (after 290354ms in state UP)\n",
      "%3|1692390402.159|FAIL|rdkafka#producer-1| [thrd:sasl_ssl://pkc-w7d6j.germanywestcentral.azure.confluent.cloud:9]: sasl_ssl://pkc-w7d6j.germanywestcentral.azure.confluent.cloud:9092/bootstrap: Failed to resolve 'pkc-w7d6j.germanywestcentral.azure.confluent.cloud:9092': nodename nor servname provided, or not known (after 2ms in state CONNECT)\n",
      "%3|1692390402.159|FAIL|rdkafka#producer-1| [thrd:sasl_ssl://b5-pkc-w7d6j.germanywestcentral.azure.confluent.clou]: sasl_ssl://b5-pkc-w7d6j.germanywestcentral.azure.confluent.cloud:9092/5: Failed to resolve 'b5-pkc-w7d6j.germanywestcentral.azure.confluent.cloud:9092': nodename nor servname provided, or not known (after 2ms in state CONNECT)\n",
      "%3|1692390402.264|FAIL|rdkafka#producer-1| [thrd:sasl_ssl://b6-pkc-w7d6j.germanywestcentral.azure.confluent.clou]: sasl_ssl://b6-pkc-w7d6j.germanywestcentral.azure.confluent.cloud:9092/6: Failed to resolve 'b6-pkc-w7d6j.germanywestcentral.azure.confluent.cloud:9092': nodename nor servname provided, or not known (after 1ms in state CONNECT)\n",
      "%3|1692390403.170|FAIL|rdkafka#producer-1| [thrd:sasl_ssl://pkc-w7d6j.germanywestcentral.azure.confluent.cloud:9]: sasl_ssl://pkc-w7d6j.germanywestcentral.azure.confluent.cloud:9092/bootstrap: Failed to resolve 'pkc-w7d6j.germanywestcentral.azure.confluent.cloud:9092': nodename nor servname provided, or not known (after 1ms in state CONNECT, 1 identical error(s) suppressed)\n",
      "%4|1692390403.170|METADATA|rdkafka#producer-1| [thrd:main]: sasl_ssl://pkc-w7d6j.germanywestcentral.azure.confluent.cloud:9092/bootstrap: Metadata request failed: refresh unavailable topics: Local: Host resolution failure (0ms): Permanent\n",
      "%4|1692390403.170|METADATA|rdkafka#producer-1| [thrd:main]: sasl_ssl://pkc-w7d6j.germanywestcentral.azure.confluent.cloud:9092/bootstrap: Metadata request failed: refresh unavailable topics: Local: Host resolution failure (0ms): Permanent\n",
      "%4|1692390403.170|METADATA|rdkafka#producer-1| [thrd:main]: sasl_ssl://pkc-w7d6j.germanywestcentral.azure.confluent.cloud:9092/bootstrap: Metadata request failed: refresh unavailable topics: Local: Host resolution failure (0ms): Permanent\n",
      "%4|1692390403.170|METADATA|rdkafka#producer-1| [thrd:main]: sasl_ssl://pkc-w7d6j.germanywestcentral.azure.confluent.cloud:9092/bootstrap: Metadata request failed: refresh unavailable topics: Local: Host resolution failure (0ms): Permanent\n",
      "%4|1692390403.170|METADATA|rdkafka#producer-1| [thrd:main]: sasl_ssl://pkc-w7d6j.germanywestcentral.azure.confluent.cloud:9092/bootstrap: Metadata request failed: refresh unavailable topics: Local: Host resolution failure (0ms): Permanent\n",
      "%4|1692390403.170|METADATA|rdkafka#producer-1| [thrd:main]: sasl_ssl://pkc-w7d6j.germanywestcentral.azure.confluent.cloud:9092/bootstrap: Metadata request failed: refresh unavailable topics: Local: Host resolution failure (0ms): Permanent\n",
      "%4|1692390403.170|METADATA|rdkafka#producer-1| [thrd:main]: sasl_ssl://pkc-w7d6j.germanywestcentral.azure.confluent.cloud:9092/bootstrap: Metadata request failed: refresh unavailable topics: Local: Host resolution failure (0ms): Permanent\n",
      "%4|1692390403.170|METADATA|rdkafka#producer-1| [thrd:main]: sasl_ssl://pkc-w7d6j.germanywestcentral.azure.confluent.cloud:9092/bootstrap: Metadata request failed: refresh unavailable topics: Local: Host resolution failure (0ms): Permanent\n",
      "%4|1692390403.170|METADATA|rdkafka#producer-1| [thrd:main]: sasl_ssl://pkc-w7d6j.germanywestcentral.azure.confluent.cloud:9092/bootstrap: Metadata request failed: refresh unavailable topics: Local: Host resolution failure (0ms): Permanent\n",
      "%4|1692390403.170|METADATA|rdkafka#producer-1| [thrd:main]: sasl_ssl://pkc-w7d6j.germanywestcentral.azure.confluent.cloud:9092/bootstrap: Metadata request failed: refresh unavailable topics: Local: Host resolution failure (0ms): Permanent\n",
      "%4|1692390403.170|METADATA|rdkafka#producer-1| [thrd:main]: sasl_ssl://pkc-w7d6j.germanywestcentral.azure.confluent.cloud:9092/bootstrap: Metadata request failed: refresh unavailable topics: Local: Host resolution failure (0ms): Permanent\n",
      "%4|1692390403.170|METADATA|rdkafka#producer-1| [thrd:main]: sasl_ssl://pkc-w7d6j.germanywestcentral.azure.confluent.cloud:9092/bootstrap: Metadata request failed: refresh unavailable topics: Local: Host resolution failure (0ms): Permanent\n",
      "%4|1692390403.170|METADATA|rdkafka#producer-1| [thrd:main]: sasl_ssl://pkc-w7d6j.germanywestcentral.azure.confluent.cloud:9092/bootstrap: Metadata request failed: refresh unavailable topics: Local: Host resolution failure (0ms): Permanent\n",
      "%4|1692390403.170|METADATA|rdkafka#producer-1| [thrd:main]: sasl_ssl://pkc-w7d6j.germanywestcentral.azure.confluent.cloud:9092/bootstrap: Metadata request failed: refresh unavailable topics: Local: Host resolution failure (0ms): Permanent\n",
      "%4|1692390403.170|METADATA|rdkafka#producer-1| [thrd:main]: sasl_ssl://pkc-w7d6j.germanywestcentral.azure.confluent.cloud:9092/bootstrap: Metadata request failed: refresh unavailable topics: Local: Host resolution failure (0ms): Permanent\n",
      "%4|1692390403.170|METADATA|rdkafka#producer-1| [thrd:main]: sasl_ssl://pkc-w7d6j.germanywestcentral.azure.confluent.cloud:9092/bootstrap: Metadata request failed: refresh unavailable topics: Local: Host resolution failure (0ms): Permanent\n",
      "%4|1692390403.170|METADATA|rdkafka#producer-1| [thrd:main]: sasl_ssl://pkc-w7d6j.germanywestcentral.azure.confluent.cloud:9092/bootstrap: Metadata request failed: refresh unavailable topics: Local: Host resolution failure (0ms): Permanent\n",
      "%4|1692390403.170|METADATA|rdkafka#producer-1| [thrd:main]: sasl_ssl://pkc-w7d6j.germanywestcentral.azure.confluent.cloud:9092/bootstrap: Metadata request failed: refresh unavailable topics: Local: Host resolution failure (0ms): Permanent\n",
      "%3|1692390403.269|FAIL|rdkafka#producer-1| [thrd:sasl_ssl://b3-pkc-w7d6j.germanywestcentral.azure.confluent.clou]: sasl_ssl://b3-pkc-w7d6j.germanywestcentral.azure.confluent.cloud:9092/3: Failed to resolve 'b3-pkc-w7d6j.germanywestcentral.azure.confluent.cloud:9092': nodename nor servname provided, or not known (after 1ms in state CONNECT)\n",
      "%3|1692390404.270|FAIL|rdkafka#producer-1| [thrd:sasl_ssl://b8-pkc-w7d6j.germanywestcentral.azure.confluent.clou]: sasl_ssl://b8-pkc-w7d6j.germanywestcentral.azure.confluent.cloud:9092/8: Failed to resolve 'b8-pkc-w7d6j.germanywestcentral.azure.confluent.cloud:9092': nodename nor servname provided, or not known (after 1ms in state CONNECT)\n",
      "%3|1692390405.271|FAIL|rdkafka#producer-1| [thrd:sasl_ssl://b1-pkc-w7d6j.germanywestcentral.azure.confluent.clou]: sasl_ssl://b1-pkc-w7d6j.germanywestcentral.azure.confluent.cloud:9092/1: Failed to resolve 'b1-pkc-w7d6j.germanywestcentral.azure.confluent.cloud:9092': nodename nor servname provided, or not known (after 1ms in state CONNECT)\n",
      "%3|1692390406.275|FAIL|rdkafka#producer-1| [thrd:sasl_ssl://b4-pkc-w7d6j.germanywestcentral.azure.confluent.clou]: sasl_ssl://b4-pkc-w7d6j.germanywestcentral.azure.confluent.cloud:9092/4: Failed to resolve 'b4-pkc-w7d6j.germanywestcentral.azure.confluent.cloud:9092': nodename nor servname provided, or not known (after 1ms in state CONNECT)\n",
      "%3|1692390407.284|FAIL|rdkafka#producer-1| [thrd:sasl_ssl://b7-pkc-w7d6j.germanywestcentral.azure.confluent.clou]: sasl_ssl://b7-pkc-w7d6j.germanywestcentral.azure.confluent.cloud:9092/7: Failed to resolve 'b7-pkc-w7d6j.germanywestcentral.azure.confluent.cloud:9092': nodename nor servname provided, or not known (after 1ms in state CONNECT)\n",
      "%3|1692390408.283|FAIL|rdkafka#producer-1| [thrd:sasl_ssl://b0-pkc-w7d6j.germanywestcentral.azure.confluent.clou]: sasl_ssl://b0-pkc-w7d6j.germanywestcentral.azure.confluent.cloud:9092/0: Failed to resolve 'b0-pkc-w7d6j.germanywestcentral.azure.confluent.cloud:9092': nodename nor servname provided, or not known (after 0ms in state CONNECT)\n",
      "%3|1692390409.290|FAIL|rdkafka#producer-1| [thrd:sasl_ssl://b2-pkc-w7d6j.germanywestcentral.azure.confluent.clou]: sasl_ssl://b2-pkc-w7d6j.germanywestcentral.azure.confluent.cloud:9092/2: Failed to resolve 'b2-pkc-w7d6j.germanywestcentral.azure.confluent.cloud:9092': nodename nor servname provided, or not known (after 0ms in state CONNECT)\n",
      "%3|1692390410.300|FAIL|rdkafka#producer-1| [thrd:sasl_ssl://b8-pkc-w7d6j.germanywestcentral.azure.confluent.clou]: sasl_ssl://b8-pkc-w7d6j.germanywestcentral.azure.confluent.cloud:9092/8: Failed to resolve 'b8-pkc-w7d6j.germanywestcentral.azure.confluent.cloud:9092': nodename nor servname provided, or not known (after 1ms in state CONNECT, 1 identical error(s) suppressed)\n",
      "%3|1692397611.270|FAIL|rdkafka#producer-1| [thrd:sasl_ssl://b5-pkc-w7d6j.germanywestcentral.azure.confluent.clou]: sasl_ssl://b5-pkc-w7d6j.germanywestcentral.azure.confluent.cloud:9092/5: Failed to resolve 'b5-pkc-w7d6j.germanywestcentral.azure.confluent.cloud:9092': nodename nor servname provided, or not known (after 33ms in state CONNECT, 1 identical error(s) suppressed)\n",
      "%3|1692397611.994|FAIL|rdkafka#producer-1| [thrd:sasl_ssl://b3-pkc-w7d6j.germanywestcentral.azure.confluent.clou]: sasl_ssl://b3-pkc-w7d6j.germanywestcentral.azure.confluent.cloud:9092/3: Failed to resolve 'b3-pkc-w7d6j.germanywestcentral.azure.confluent.cloud:9092': nodename nor servname provided, or not known (after 6ms in state CONNECT, 1 identical error(s) suppressed)\n",
      "%3|1692397612.237|FAIL|rdkafka#producer-1| [thrd:sasl_ssl://b0-pkc-w7d6j.germanywestcentral.azure.confluent.clou]: sasl_ssl://b0-pkc-w7d6j.germanywestcentral.azure.confluent.cloud:9092/0: Failed to resolve 'b0-pkc-w7d6j.germanywestcentral.azure.confluent.cloud:9092': nodename nor servname provided, or not known (after 0ms in state CONNECT, 1 identical error(s) suppressed)\n",
      "%3|1692397613.240|FAIL|rdkafka#producer-1| [thrd:sasl_ssl://b8-pkc-w7d6j.germanywestcentral.azure.confluent.clou]: sasl_ssl://b8-pkc-w7d6j.germanywestcentral.azure.confluent.cloud:9092/8: Failed to resolve 'b8-pkc-w7d6j.germanywestcentral.azure.confluent.cloud:9092': nodename nor servname provided, or not known (after 0ms in state CONNECT, 1 identical error(s) suppressed)\n",
      "%3|1692397614.246|FAIL|rdkafka#producer-1| [thrd:sasl_ssl://b2-pkc-w7d6j.germanywestcentral.azure.confluent.clou]: sasl_ssl://b2-pkc-w7d6j.germanywestcentral.azure.confluent.cloud:9092/2: Failed to resolve 'b2-pkc-w7d6j.germanywestcentral.azure.confluent.cloud:9092': nodename nor servname provided, or not known (after 0ms in state CONNECT, 1 identical error(s) suppressed)\n",
      "%3|1692397617.265|FAIL|rdkafka#producer-1| [thrd:sasl_ssl://b1-pkc-w7d6j.germanywestcentral.azure.confluent.clou]: sasl_ssl://b1-pkc-w7d6j.germanywestcentral.azure.confluent.cloud:9092/1: Failed to resolve 'b1-pkc-w7d6j.germanywestcentral.azure.confluent.cloud:9092': nodename nor servname provided, or not known (after 1ms in state CONNECT, 1 identical error(s) suppressed)\n",
      "%3|1692397620.287|FAIL|rdkafka#producer-1| [thrd:sasl_ssl://b7-pkc-w7d6j.germanywestcentral.azure.confluent.clou]: sasl_ssl://b7-pkc-w7d6j.germanywestcentral.azure.confluent.cloud:9092/7: Failed to resolve 'b7-pkc-w7d6j.germanywestcentral.azure.confluent.cloud:9092': nodename nor servname provided, or not known (after 1ms in state CONNECT, 1 identical error(s) suppressed)\n",
      "%3|1692397621.288|FAIL|rdkafka#producer-1| [thrd:sasl_ssl://b4-pkc-w7d6j.germanywestcentral.azure.confluent.clou]: sasl_ssl://b4-pkc-w7d6j.germanywestcentral.azure.confluent.cloud:9092/4: Failed to resolve 'b4-pkc-w7d6j.germanywestcentral.azure.confluent.cloud:9092': nodename nor servname provided, or not known (after 0ms in state CONNECT, 1 identical error(s) suppressed)\n",
      "%3|1692397626.300|FAIL|rdkafka#producer-1| [thrd:sasl_ssl://pkc-w7d6j.germanywestcentral.azure.confluent.cloud:9]: sasl_ssl://pkc-w7d6j.germanywestcentral.azure.confluent.cloud:9092/bootstrap: Failed to resolve 'pkc-w7d6j.germanywestcentral.azure.confluent.cloud:9092': nodename nor servname provided, or not known (after 3ms in state CONNECT, 1 identical error(s) suppressed)\n",
      "%3|1692397631.310|FAIL|rdkafka#producer-1| [thrd:sasl_ssl://b6-pkc-w7d6j.germanywestcentral.azure.confluent.clou]: sasl_ssl://b6-pkc-w7d6j.germanywestcentral.azure.confluent.cloud:9092/6: Failed to resolve 'b6-pkc-w7d6j.germanywestcentral.azure.confluent.cloud:9092': nodename nor servname provided, or not known (after 3ms in state CONNECT, 1 identical error(s) suppressed)\n",
      "%3|1692397646.406|FAIL|rdkafka#producer-1| [thrd:sasl_ssl://b2-pkc-w7d6j.germanywestcentral.azure.confluent.clou]: sasl_ssl://b2-pkc-w7d6j.germanywestcentral.azure.confluent.cloud:9092/2: Failed to resolve 'b2-pkc-w7d6j.germanywestcentral.azure.confluent.cloud:9092': nodename nor servname provided, or not known (after 11ms in state CONNECT, 4 identical error(s) suppressed)\n",
      "%3|1692397647.408|FAIL|rdkafka#producer-1| [thrd:sasl_ssl://b1-pkc-w7d6j.germanywestcentral.azure.confluent.clou]: sasl_ssl://b1-pkc-w7d6j.germanywestcentral.azure.confluent.cloud:9092/1: Failed to resolve 'b1-pkc-w7d6j.germanywestcentral.azure.confluent.cloud:9092': nodename nor servname provided, or not known (after 3ms in state CONNECT, 4 identical error(s) suppressed)\n",
      "%3|1692412406.853|FAIL|rdkafka#producer-1| [thrd:sasl_ssl://b6-pkc-w7d6j.germanywestcentral.azure.confluent.clou]: sasl_ssl://b6-pkc-w7d6j.germanywestcentral.azure.confluent.cloud:9092/6: Failed to resolve 'b6-pkc-w7d6j.germanywestcentral.azure.confluent.cloud:9092': nodename nor servname provided, or not known (after 411ms in state CONNECT, 1 identical error(s) suppressed)\n",
      "%3|1692412407.437|FAIL|rdkafka#producer-1| [thrd:sasl_ssl://b4-pkc-w7d6j.germanywestcentral.azure.confluent.clou]: sasl_ssl://b4-pkc-w7d6j.germanywestcentral.azure.confluent.cloud:9092/4: Failed to resolve 'b4-pkc-w7d6j.germanywestcentral.azure.confluent.cloud:9092': nodename nor servname provided, or not known (after 2ms in state CONNECT, 4 identical error(s) suppressed)\n",
      "%3|1692412408.436|FAIL|rdkafka#producer-1| [thrd:sasl_ssl://b5-pkc-w7d6j.germanywestcentral.azure.confluent.clou]: sasl_ssl://b5-pkc-w7d6j.germanywestcentral.azure.confluent.cloud:9092/5: Failed to resolve 'b5-pkc-w7d6j.germanywestcentral.azure.confluent.cloud:9092': nodename nor servname provided, or not known (after 0ms in state CONNECT, 3 identical error(s) suppressed)\n",
      "%3|1692412409.441|FAIL|rdkafka#producer-1| [thrd:sasl_ssl://b8-pkc-w7d6j.germanywestcentral.azure.confluent.clou]: sasl_ssl://b8-pkc-w7d6j.germanywestcentral.azure.confluent.cloud:9092/8: Failed to resolve 'b8-pkc-w7d6j.germanywestcentral.azure.confluent.cloud:9092': nodename nor servname provided, or not known (after 1ms in state CONNECT, 4 identical error(s) suppressed)\n",
      "%3|1692412410.450|FAIL|rdkafka#producer-1| [thrd:sasl_ssl://b0-pkc-w7d6j.germanywestcentral.azure.confluent.clou]: sasl_ssl://b0-pkc-w7d6j.germanywestcentral.azure.confluent.cloud:9092/0: Failed to resolve 'b0-pkc-w7d6j.germanywestcentral.azure.confluent.cloud:9092': nodename nor servname provided, or not known (after 1ms in state CONNECT, 2 identical error(s) suppressed)\n",
      "%3|1692412412.462|FAIL|rdkafka#producer-1| [thrd:sasl_ssl://b1-pkc-w7d6j.germanywestcentral.azure.confluent.clou]: sasl_ssl://b1-pkc-w7d6j.germanywestcentral.azure.confluent.cloud:9092/1: Failed to resolve 'b1-pkc-w7d6j.germanywestcentral.azure.confluent.cloud:9092': nodename nor servname provided, or not known (after 1ms in state CONNECT, 1 identical error(s) suppressed)\n",
      "%3|1692412414.478|FAIL|rdkafka#producer-1| [thrd:sasl_ssl://pkc-w7d6j.germanywestcentral.azure.confluent.cloud:9]: sasl_ssl://pkc-w7d6j.germanywestcentral.azure.confluent.cloud:9092/bootstrap: Failed to resolve 'pkc-w7d6j.germanywestcentral.azure.confluent.cloud:9092': nodename nor servname provided, or not known (after 2ms in state CONNECT, 4 identical error(s) suppressed)\n",
      "%3|1692420119.386|FAIL|rdkafka#producer-1| [thrd:sasl_ssl://b5-pkc-w7d6j.germanywestcentral.azure.confluent.clou]: sasl_ssl://b5-pkc-w7d6j.germanywestcentral.azure.confluent.cloud:9092/5: Failed to resolve 'b5-pkc-w7d6j.germanywestcentral.azure.confluent.cloud:9092': nodename nor servname provided, or not known (after 173ms in state CONNECT, 1 identical error(s) suppressed)\n",
      "%3|1692420119.399|FAIL|rdkafka#producer-1| [thrd:sasl_ssl://b1-pkc-w7d6j.germanywestcentral.azure.confluent.clou]: sasl_ssl://b1-pkc-w7d6j.germanywestcentral.azure.confluent.cloud:9092/1: Failed to resolve 'b1-pkc-w7d6j.germanywestcentral.azure.confluent.cloud:9092': nodename nor servname provided, or not known (after 188ms in state CONNECT, 2 identical error(s) suppressed)\n",
      "%3|1692420120.203|FAIL|rdkafka#producer-1| [thrd:sasl_ssl://pkc-w7d6j.germanywestcentral.azure.confluent.cloud:9]: sasl_ssl://pkc-w7d6j.germanywestcentral.azure.confluent.cloud:9092/bootstrap: Failed to resolve 'pkc-w7d6j.germanywestcentral.azure.confluent.cloud:9092': nodename nor servname provided, or not known (after 1ms in state CONNECT, 1 identical error(s) suppressed)\n",
      "%3|1692420123.219|FAIL|rdkafka#producer-1| [thrd:sasl_ssl://b6-pkc-w7d6j.germanywestcentral.azure.confluent.clou]: sasl_ssl://b6-pkc-w7d6j.germanywestcentral.azure.confluent.cloud:9092/6: Failed to resolve 'b6-pkc-w7d6j.germanywestcentral.azure.confluent.cloud:9092': nodename nor servname provided, or not known (after 1ms in state CONNECT, 2 identical error(s) suppressed)\n",
      "%3|1692420124.230|FAIL|rdkafka#producer-1| [thrd:sasl_ssl://b2-pkc-w7d6j.germanywestcentral.azure.confluent.clou]: sasl_ssl://b2-pkc-w7d6j.germanywestcentral.azure.confluent.cloud:9092/2: Failed to resolve 'b2-pkc-w7d6j.germanywestcentral.azure.confluent.cloud:9092': nodename nor servname provided, or not known (after 2ms in state CONNECT, 1 identical error(s) suppressed)\n",
      "%3|1692420125.229|FAIL|rdkafka#producer-1| [thrd:sasl_ssl://b4-pkc-w7d6j.germanywestcentral.azure.confluent.clou]: sasl_ssl://b4-pkc-w7d6j.germanywestcentral.azure.confluent.cloud:9092/4: Failed to resolve 'b4-pkc-w7d6j.germanywestcentral.azure.confluent.cloud:9092': nodename nor servname provided, or not known (after 1ms in state CONNECT, 1 identical error(s) suppressed)\n",
      "%3|1692420130.235|FAIL|rdkafka#producer-1| [thrd:sasl_ssl://b8-pkc-w7d6j.germanywestcentral.azure.confluent.clou]: sasl_ssl://b8-pkc-w7d6j.germanywestcentral.azure.confluent.cloud:9092/8: Failed to resolve 'b8-pkc-w7d6j.germanywestcentral.azure.confluent.cloud:9092': nodename nor servname provided, or not known (after 1ms in state CONNECT, 1 identical error(s) suppressed)\n",
      "%3|1692420136.259|FAIL|rdkafka#producer-1| [thrd:sasl_ssl://b3-pkc-w7d6j.germanywestcentral.azure.confluent.clou]: sasl_ssl://b3-pkc-w7d6j.germanywestcentral.azure.confluent.cloud:9092/3: Failed to resolve 'b3-pkc-w7d6j.germanywestcentral.azure.confluent.cloud:9092': nodename nor servname provided, or not known (after 3ms in state CONNECT, 7 identical error(s) suppressed)\n",
      "%3|1692420140.262|FAIL|rdkafka#producer-1| [thrd:sasl_ssl://b7-pkc-w7d6j.germanywestcentral.azure.confluent.clou]: sasl_ssl://b7-pkc-w7d6j.germanywestcentral.azure.confluent.cloud:9092/7: Failed to resolve 'b7-pkc-w7d6j.germanywestcentral.azure.confluent.cloud:9092': nodename nor servname provided, or not known (after 1ms in state CONNECT, 3 identical error(s) suppressed)\n",
      "%3|1692420150.299|FAIL|rdkafka#producer-1| [thrd:sasl_ssl://b1-pkc-w7d6j.germanywestcentral.azure.confluent.clou]: sasl_ssl://b1-pkc-w7d6j.germanywestcentral.azure.confluent.cloud:9092/1: Failed to resolve 'b1-pkc-w7d6j.germanywestcentral.azure.confluent.cloud:9092': nodename nor servname provided, or not known (after 0ms in state CONNECT, 4 identical error(s) suppressed)\n",
      "%3|1692420151.303|FAIL|rdkafka#producer-1| [thrd:sasl_ssl://b0-pkc-w7d6j.germanywestcentral.azure.confluent.clou]: sasl_ssl://b0-pkc-w7d6j.germanywestcentral.azure.confluent.cloud:9092/0: Failed to resolve 'b0-pkc-w7d6j.germanywestcentral.azure.confluent.cloud:9092': nodename nor servname provided, or not known (after 1ms in state CONNECT, 2 identical error(s) suppressed)\n",
      "%3|1692420154.312|FAIL|rdkafka#producer-1| [thrd:sasl_ssl://pkc-w7d6j.germanywestcentral.azure.confluent.cloud:9]: sasl_ssl://pkc-w7d6j.germanywestcentral.azure.confluent.cloud:9092/bootstrap: Failed to resolve 'pkc-w7d6j.germanywestcentral.azure.confluent.cloud:9092': nodename nor servname provided, or not known (after 1ms in state CONNECT, 5 identical error(s) suppressed)\n",
      "%3|1692429704.860|FAIL|rdkafka#producer-1| [thrd:sasl_ssl://b4-pkc-w7d6j.germanywestcentral.azure.confluent.clou]: sasl_ssl://b4-pkc-w7d6j.germanywestcentral.azure.confluent.cloud:9092/4: Failed to resolve 'b4-pkc-w7d6j.germanywestcentral.azure.confluent.cloud:9092': nodename nor servname provided, or not known (after 11ms in state CONNECT, 4 identical error(s) suppressed)\n",
      "%3|1692429705.856|FAIL|rdkafka#producer-1| [thrd:sasl_ssl://b2-pkc-w7d6j.germanywestcentral.azure.confluent.clou]: sasl_ssl://b2-pkc-w7d6j.germanywestcentral.azure.confluent.cloud:9092/2: Failed to resolve 'b2-pkc-w7d6j.germanywestcentral.azure.confluent.cloud:9092': nodename nor servname provided, or not known (after 1ms in state CONNECT, 3 identical error(s) suppressed)\n",
      "%3|1692429706.860|FAIL|rdkafka#producer-1| [thrd:sasl_ssl://pkc-w7d6j.germanywestcentral.azure.confluent.cloud:9]: sasl_ssl://pkc-w7d6j.germanywestcentral.azure.confluent.cloud:9092/bootstrap: Failed to resolve 'pkc-w7d6j.germanywestcentral.azure.confluent.cloud:9092': nodename nor servname provided, or not known (after 6ms in state CONNECT, 1 identical error(s) suppressed)\n",
      "%3|1692429708.858|FAIL|rdkafka#producer-1| [thrd:sasl_ssl://b0-pkc-w7d6j.germanywestcentral.azure.confluent.clou]: sasl_ssl://b0-pkc-w7d6j.germanywestcentral.azure.confluent.cloud:9092/0: Failed to resolve 'b0-pkc-w7d6j.germanywestcentral.azure.confluent.cloud:9092': nodename nor servname provided, or not known (after 1ms in state CONNECT, 1 identical error(s) suppressed)\n",
      "%3|1692429710.862|FAIL|rdkafka#producer-1| [thrd:sasl_ssl://b6-pkc-w7d6j.germanywestcentral.azure.confluent.clou]: sasl_ssl://b6-pkc-w7d6j.germanywestcentral.azure.confluent.cloud:9092/6: Failed to resolve 'b6-pkc-w7d6j.germanywestcentral.azure.confluent.cloud:9092': nodename nor servname provided, or not known (after 0ms in state CONNECT, 4 identical error(s) suppressed)\n",
      "%3|1692429712.868|FAIL|rdkafka#producer-1| [thrd:sasl_ssl://b8-pkc-w7d6j.germanywestcentral.azure.confluent.clou]: sasl_ssl://b8-pkc-w7d6j.germanywestcentral.azure.confluent.cloud:9092/8: Failed to resolve 'b8-pkc-w7d6j.germanywestcentral.azure.confluent.cloud:9092': nodename nor servname provided, or not known (after 1ms in state CONNECT, 4 identical error(s) suppressed)\n",
      "%3|1692429716.876|FAIL|rdkafka#producer-1| [thrd:sasl_ssl://b1-pkc-w7d6j.germanywestcentral.azure.confluent.clou]: sasl_ssl://b1-pkc-w7d6j.germanywestcentral.azure.confluent.cloud:9092/1: Failed to resolve 'b1-pkc-w7d6j.germanywestcentral.azure.confluent.cloud:9092': nodename nor servname provided, or not known (after 1ms in state CONNECT, 2 identical error(s) suppressed)\n",
      "%3|1692429718.878|FAIL|rdkafka#producer-1| [thrd:sasl_ssl://b7-pkc-w7d6j.germanywestcentral.azure.confluent.clou]: sasl_ssl://b7-pkc-w7d6j.germanywestcentral.azure.confluent.cloud:9092/7: Failed to resolve 'b7-pkc-w7d6j.germanywestcentral.azure.confluent.cloud:9092': nodename nor servname provided, or not known (after 1ms in state CONNECT, 3 identical error(s) suppressed)\n",
      "%3|1692429722.881|FAIL|rdkafka#producer-1| [thrd:sasl_ssl://b3-pkc-w7d6j.germanywestcentral.azure.confluent.clou]: sasl_ssl://b3-pkc-w7d6j.germanywestcentral.azure.confluent.cloud:9092/3: Failed to resolve 'b3-pkc-w7d6j.germanywestcentral.azure.confluent.cloud:9092': nodename nor servname provided, or not known (after 0ms in state CONNECT, 2 identical error(s) suppressed)\n",
      "%3|1692429730.890|FAIL|rdkafka#producer-1| [thrd:sasl_ssl://b5-pkc-w7d6j.germanywestcentral.azure.confluent.clou]: sasl_ssl://b5-pkc-w7d6j.germanywestcentral.azure.confluent.cloud:9092/5: Failed to resolve 'b5-pkc-w7d6j.germanywestcentral.azure.confluent.cloud:9092': nodename nor servname provided, or not known (after 1ms in state CONNECT, 5 identical error(s) suppressed)\n",
      "%3|1692429736.893|FAIL|rdkafka#producer-1| [thrd:sasl_ssl://pkc-w7d6j.germanywestcentral.azure.confluent.cloud:9]: sasl_ssl://pkc-w7d6j.germanywestcentral.azure.confluent.cloud:9092/bootstrap: Failed to resolve 'pkc-w7d6j.germanywestcentral.azure.confluent.cloud:9092': nodename nor servname provided, or not known (after 1ms in state CONNECT, 2 identical error(s) suppressed)\n",
      "%3|1692429742.904|FAIL|rdkafka#producer-1| [thrd:sasl_ssl://b2-pkc-w7d6j.germanywestcentral.azure.confluent.clou]: sasl_ssl://b2-pkc-w7d6j.germanywestcentral.azure.confluent.cloud:9092/2: Failed to resolve 'b2-pkc-w7d6j.germanywestcentral.azure.confluent.cloud:9092': nodename nor servname provided, or not known (after 1ms in state CONNECT, 2 identical error(s) suppressed)\n",
      "%3|1692429746.905|FAIL|rdkafka#producer-1| [thrd:sasl_ssl://b6-pkc-w7d6j.germanywestcentral.azure.confluent.clou]: sasl_ssl://b6-pkc-w7d6j.germanywestcentral.azure.confluent.cloud:9092/6: Failed to resolve 'b6-pkc-w7d6j.germanywestcentral.azure.confluent.cloud:9092': nodename nor servname provided, or not known (after 1ms in state CONNECT, 4 identical error(s) suppressed)\n",
      "%3|1692429747.905|FAIL|rdkafka#producer-1| [thrd:sasl_ssl://b4-pkc-w7d6j.germanywestcentral.azure.confluent.clou]: sasl_ssl://b4-pkc-w7d6j.germanywestcentral.azure.confluent.cloud:9092/4: Failed to resolve 'b4-pkc-w7d6j.germanywestcentral.azure.confluent.cloud:9092': nodename nor servname provided, or not known (after 1ms in state CONNECT, 7 identical error(s) suppressed)\n",
      "%3|1692429748.909|FAIL|rdkafka#producer-1| [thrd:sasl_ssl://b7-pkc-w7d6j.germanywestcentral.azure.confluent.clou]: sasl_ssl://b7-pkc-w7d6j.germanywestcentral.azure.confluent.cloud:9092/7: Failed to resolve 'b7-pkc-w7d6j.germanywestcentral.azure.confluent.cloud:9092': nodename nor servname provided, or not known (after 1ms in state CONNECT, 4 identical error(s) suppressed)\n",
      "%3|1692429751.921|FAIL|rdkafka#producer-1| [thrd:sasl_ssl://b1-pkc-w7d6j.germanywestcentral.azure.confluent.clou]: sasl_ssl://b1-pkc-w7d6j.germanywestcentral.azure.confluent.cloud:9092/1: Failed to resolve 'b1-pkc-w7d6j.germanywestcentral.azure.confluent.cloud:9092': nodename nor servname provided, or not known (after 1ms in state CONNECT, 4 identical error(s) suppressed)\n",
      "%3|1692429764.950|FAIL|rdkafka#producer-1| [thrd:sasl_ssl://b0-pkc-w7d6j.germanywestcentral.azure.confluent.clou]: sasl_ssl://b0-pkc-w7d6j.germanywestcentral.azure.confluent.cloud:9092/0: Failed to resolve 'b0-pkc-w7d6j.germanywestcentral.azure.confluent.cloud:9092': nodename nor servname provided, or not known (after 1ms in state CONNECT, 5 identical error(s) suppressed)\n",
      "%3|1692429767.955|FAIL|rdkafka#producer-1| [thrd:sasl_ssl://b3-pkc-w7d6j.germanywestcentral.azure.confluent.clou]: sasl_ssl://b3-pkc-w7d6j.germanywestcentral.azure.confluent.cloud:9092/3: Failed to resolve 'b3-pkc-w7d6j.germanywestcentral.azure.confluent.cloud:9092': nodename nor servname provided, or not known (after 1ms in state CONNECT, 5 identical error(s) suppressed)\n",
      "%3|1692429770.965|FAIL|rdkafka#producer-1| [thrd:sasl_ssl://pkc-w7d6j.germanywestcentral.azure.confluent.cloud:9]: sasl_ssl://pkc-w7d6j.germanywestcentral.azure.confluent.cloud:9092/bootstrap: Failed to resolve 'pkc-w7d6j.germanywestcentral.azure.confluent.cloud:9092': nodename nor servname provided, or not known (after 1ms in state CONNECT, 4 identical error(s) suppressed)\n",
      "%3|1692429773.965|FAIL|rdkafka#producer-1| [thrd:sasl_ssl://b2-pkc-w7d6j.germanywestcentral.azure.confluent.clou]: sasl_ssl://b2-pkc-w7d6j.germanywestcentral.azure.confluent.cloud:9092/2: Failed to resolve 'b2-pkc-w7d6j.germanywestcentral.azure.confluent.cloud:9092': nodename nor servname provided, or not known (after 1ms in state CONNECT, 4 identical error(s) suppressed)\n",
      "%3|1692429780.980|FAIL|rdkafka#producer-1| [thrd:sasl_ssl://b4-pkc-w7d6j.germanywestcentral.azure.confluent.clou]: sasl_ssl://b4-pkc-w7d6j.germanywestcentral.azure.confluent.cloud:9092/4: Failed to resolve 'b4-pkc-w7d6j.germanywestcentral.azure.confluent.cloud:9092': nodename nor servname provided, or not known (after 1ms in state CONNECT, 2 identical error(s) suppressed)\n",
      "%3|1692429781.984|FAIL|rdkafka#producer-1| [thrd:sasl_ssl://b5-pkc-w7d6j.germanywestcentral.azure.confluent.clou]: sasl_ssl://b5-pkc-w7d6j.germanywestcentral.azure.confluent.cloud:9092/5: Failed to resolve 'b5-pkc-w7d6j.germanywestcentral.azure.confluent.cloud:9092': nodename nor servname provided, or not known (after 1ms in state CONNECT, 3 identical error(s) suppressed)\n",
      "%3|1692429787.002|FAIL|rdkafka#producer-1| [thrd:sasl_ssl://b6-pkc-w7d6j.germanywestcentral.azure.confluent.clou]: sasl_ssl://b6-pkc-w7d6j.germanywestcentral.azure.confluent.cloud:9092/6: Failed to resolve 'b6-pkc-w7d6j.germanywestcentral.azure.confluent.cloud:9092': nodename nor servname provided, or not known (after 1ms in state CONNECT, 4 identical error(s) suppressed)\n",
      "%3|1692429789.002|FAIL|rdkafka#producer-1| [thrd:sasl_ssl://b7-pkc-w7d6j.germanywestcentral.azure.confluent.clou]: sasl_ssl://b7-pkc-w7d6j.germanywestcentral.azure.confluent.cloud:9092/7: Failed to resolve 'b7-pkc-w7d6j.germanywestcentral.azure.confluent.cloud:9092': nodename nor servname provided, or not known (after 1ms in state CONNECT, 3 identical error(s) suppressed)\n",
      "%3|1692429797.010|FAIL|rdkafka#producer-1| [thrd:sasl_ssl://b8-pkc-w7d6j.germanywestcentral.azure.confluent.clou]: sasl_ssl://b8-pkc-w7d6j.germanywestcentral.azure.confluent.cloud:9092/8: Failed to resolve 'b8-pkc-w7d6j.germanywestcentral.azure.confluent.cloud:9092': nodename nor servname provided, or not known (after 1ms in state CONNECT, 5 identical error(s) suppressed)\n",
      "%3|1692429801.014|FAIL|rdkafka#producer-1| [thrd:sasl_ssl://b3-pkc-w7d6j.germanywestcentral.azure.confluent.clou]: sasl_ssl://b3-pkc-w7d6j.germanywestcentral.azure.confluent.cloud:9092/3: Failed to resolve 'b3-pkc-w7d6j.germanywestcentral.azure.confluent.cloud:9092': nodename nor servname provided, or not known (after 1ms in state CONNECT, 5 identical error(s) suppressed)\n",
      "%3|1692429802.016|FAIL|rdkafka#producer-1| [thrd:sasl_ssl://b0-pkc-w7d6j.germanywestcentral.azure.confluent.clou]: sasl_ssl://b0-pkc-w7d6j.germanywestcentral.azure.confluent.cloud:9092/0: Failed to resolve 'b0-pkc-w7d6j.germanywestcentral.azure.confluent.cloud:9092': nodename nor servname provided, or not known (after 1ms in state CONNECT, 4 identical error(s) suppressed)\n",
      "%3|1692429804.017|FAIL|rdkafka#producer-1| [thrd:sasl_ssl://b2-pkc-w7d6j.germanywestcentral.azure.confluent.clou]: sasl_ssl://b2-pkc-w7d6j.germanywestcentral.azure.confluent.cloud:9092/2: Failed to resolve 'b2-pkc-w7d6j.germanywestcentral.azure.confluent.cloud:9092': nodename nor servname provided, or not known (after 1ms in state CONNECT, 4 identical error(s) suppressed)\n",
      "%3|1692429807.018|FAIL|rdkafka#producer-1| [thrd:sasl_ssl://pkc-w7d6j.germanywestcentral.azure.confluent.cloud:9]: sasl_ssl://pkc-w7d6j.germanywestcentral.azure.confluent.cloud:9092/bootstrap: Failed to resolve 'pkc-w7d6j.germanywestcentral.azure.confluent.cloud:9092': nodename nor servname provided, or not known (after 1ms in state CONNECT, 2 identical error(s) suppressed)\n",
      "%3|1692429812.023|FAIL|rdkafka#producer-1| [thrd:sasl_ssl://b4-pkc-w7d6j.germanywestcentral.azure.confluent.clou]: sasl_ssl://b4-pkc-w7d6j.germanywestcentral.azure.confluent.cloud:9092/4: Failed to resolve 'b4-pkc-w7d6j.germanywestcentral.azure.confluent.cloud:9092': nodename nor servname provided, or not known (after 1ms in state CONNECT, 7 identical error(s) suppressed)\n",
      "%3|1692429819.029|FAIL|rdkafka#producer-1| [thrd:sasl_ssl://b5-pkc-w7d6j.germanywestcentral.azure.confluent.clou]: sasl_ssl://b5-pkc-w7d6j.germanywestcentral.azure.confluent.cloud:9092/5: Failed to resolve 'b5-pkc-w7d6j.germanywestcentral.azure.confluent.cloud:9092': nodename nor servname provided, or not known (after 1ms in state CONNECT, 4 identical error(s) suppressed)\n",
      "%3|1692429820.029|FAIL|rdkafka#producer-1| [thrd:sasl_ssl://b1-pkc-w7d6j.germanywestcentral.azure.confluent.clou]: sasl_ssl://b1-pkc-w7d6j.germanywestcentral.azure.confluent.cloud:9092/1: Failed to resolve 'b1-pkc-w7d6j.germanywestcentral.azure.confluent.cloud:9092': nodename nor servname provided, or not known (after 1ms in state CONNECT, 8 identical error(s) suppressed)\n",
      "%3|1692429827.035|FAIL|rdkafka#producer-1| [thrd:sasl_ssl://b8-pkc-w7d6j.germanywestcentral.azure.confluent.clou]: sasl_ssl://b8-pkc-w7d6j.germanywestcentral.azure.confluent.cloud:9092/8: Failed to resolve 'b8-pkc-w7d6j.germanywestcentral.azure.confluent.cloud:9092': nodename nor servname provided, or not known (after 1ms in state CONNECT, 4 identical error(s) suppressed)\n",
      "%3|1692429828.036|FAIL|rdkafka#producer-1| [thrd:sasl_ssl://b7-pkc-w7d6j.germanywestcentral.azure.confluent.clou]: sasl_ssl://b7-pkc-w7d6j.germanywestcentral.azure.confluent.cloud:9092/7: Failed to resolve 'b7-pkc-w7d6j.germanywestcentral.azure.confluent.cloud:9092': nodename nor servname provided, or not known (after 1ms in state CONNECT, 4 identical error(s) suppressed)\n",
      "%3|1692429830.038|FAIL|rdkafka#producer-1| [thrd:sasl_ssl://b6-pkc-w7d6j.germanywestcentral.azure.confluent.clou]: sasl_ssl://b6-pkc-w7d6j.germanywestcentral.azure.confluent.cloud:9092/6: Failed to resolve 'b6-pkc-w7d6j.germanywestcentral.azure.confluent.cloud:9092': nodename nor servname provided, or not known (after 1ms in state CONNECT, 3 identical error(s) suppressed)\n",
      "%3|1692429832.039|FAIL|rdkafka#producer-1| [thrd:sasl_ssl://b0-pkc-w7d6j.germanywestcentral.azure.confluent.clou]: sasl_ssl://b0-pkc-w7d6j.germanywestcentral.azure.confluent.cloud:9092/0: Failed to resolve 'b0-pkc-w7d6j.germanywestcentral.azure.confluent.cloud:9092': nodename nor servname provided, or not known (after 1ms in state CONNECT, 2 identical error(s) suppressed)\n",
      "%3|1692429834.041|FAIL|rdkafka#producer-1| [thrd:sasl_ssl://b2-pkc-w7d6j.germanywestcentral.azure.confluent.clou]: sasl_ssl://b2-pkc-w7d6j.germanywestcentral.azure.confluent.cloud:9092/2: Failed to resolve 'b2-pkc-w7d6j.germanywestcentral.azure.confluent.cloud:9092': nodename nor servname provided, or not known (after 1ms in state CONNECT, 4 identical error(s) suppressed)\n",
      "%3|1692429836.043|FAIL|rdkafka#producer-1| [thrd:sasl_ssl://b3-pkc-w7d6j.germanywestcentral.azure.confluent.clou]: sasl_ssl://b3-pkc-w7d6j.germanywestcentral.azure.confluent.cloud:9092/3: Failed to resolve 'b3-pkc-w7d6j.germanywestcentral.azure.confluent.cloud:9092': nodename nor servname provided, or not known (after 1ms in state CONNECT, 2 identical error(s) suppressed)\n",
      "%3|1692429841.047|FAIL|rdkafka#producer-1| [thrd:sasl_ssl://pkc-w7d6j.germanywestcentral.azure.confluent.cloud:9]: sasl_ssl://pkc-w7d6j.germanywestcentral.azure.confluent.cloud:9092/bootstrap: Failed to resolve 'pkc-w7d6j.germanywestcentral.azure.confluent.cloud:9092': nodename nor servname provided, or not known (after 1ms in state CONNECT, 3 identical error(s) suppressed)\n",
      "%3|1692429851.065|FAIL|rdkafka#producer-1| [thrd:sasl_ssl://b4-pkc-w7d6j.germanywestcentral.azure.confluent.clou]: sasl_ssl://b4-pkc-w7d6j.germanywestcentral.azure.confluent.cloud:9092/4: Failed to resolve 'b4-pkc-w7d6j.germanywestcentral.azure.confluent.cloud:9092': nodename nor servname provided, or not known (after 0ms in state CONNECT, 4 identical error(s) suppressed)\n",
      "%3|1692429853.066|FAIL|rdkafka#producer-1| [thrd:sasl_ssl://b1-pkc-w7d6j.germanywestcentral.azure.confluent.clou]: sasl_ssl://b1-pkc-w7d6j.germanywestcentral.azure.confluent.cloud:9092/1: Failed to resolve 'b1-pkc-w7d6j.germanywestcentral.azure.confluent.cloud:9092': nodename nor servname provided, or not known (after 1ms in state CONNECT, 3 identical error(s) suppressed)\n"
     ]
    }
   ],
   "source": [
    "def consume_tracking_events(topic, schema_str, sr_config):\n",
    "    \"\"\"Consume tracking events from a Kafka topic using an Avro deserializer.\n",
    "\n",
    "    Args:\n",
    "        topic (str): The Kafka topic to subscribe to.\n",
    "        schema_str (str): Avro schema definition as a JSON-formatted string.\n",
    "        sr_config (dict): Configuration for the Schema Registry client.\n",
    "\n",
    "    Returns:\n",
    "        None\n",
    "    \"\"\"\n",
    "    # Initialize the Avro consumer and deserializer\n",
    "    consumer, avro_deserializer = initialize_avro_consumer(topic, schema_str, sr_config)\n",
    "\n",
    "    try:\n",
    "        while True:\n",
    "            event = consumer.poll(1.0)\n",
    "            if event is None:\n",
    "                continue\n",
    "\n",
    "            # Deserialize the event using the Avro deserializer\n",
    "            t_event = avro_deserializer(event.value(), SerializationContext(topic, MessageField.VALUE))\n",
    "            \n",
    "            if t_event is not None:\n",
    "                print(f'Latest trackevent with customer id {t_event.customer_id} came with the measurement list {t_event.measurement_list}')\n",
    "\n",
    "    except KeyboardInterrupt:\n",
    "        pass  # Allow the script to gracefully exit when the user interrupts\n",
    "\n",
    "    finally:\n",
    "        consumer.close()  # Close the consumer when done\n"
   ]
  },
  {
   "cell_type": "markdown",
   "metadata": {},
   "source": [
    "Call the function to start consuming tracking events:"
   ]
  },
  {
   "cell_type": "code",
   "execution_count": null,
   "metadata": {},
   "outputs": [],
   "source": [
    "topic = 'tracking_events'\n",
    "\n",
    "consume_tracking_events(topic, schema_str, sr_config)"
   ]
  }
 ],
 "metadata": {
  "kernelspec": {
   "display_name": "venv",
   "language": "python",
   "name": "python3"
  },
  "language_info": {
   "codemirror_mode": {
    "name": "ipython",
    "version": 3
   },
   "file_extension": ".py",
   "mimetype": "text/x-python",
   "name": "python",
   "nbconvert_exporter": "python",
   "pygments_lexer": "ipython3",
   "version": "3.9.17"
  }
 },
 "nbformat": 4,
 "nbformat_minor": 4
}
